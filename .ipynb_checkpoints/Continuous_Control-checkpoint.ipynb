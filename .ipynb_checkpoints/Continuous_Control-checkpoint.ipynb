{
 "cells": [
  {
   "cell_type": "markdown",
   "metadata": {},
   "source": [
    "# Continuous Control\n",
    "\n",
    "---\n",
    "\n",
    "You are welcome to use this coding environment to train your agent for the project.  Follow the instructions below to get started!\n",
    "\n",
    "### 1. Start the Environment\n",
    "\n",
    "Run the next code cell to install a few packages.  This line will take a few minutes to run!"
   ]
  },
  {
   "cell_type": "code",
   "execution_count": 1,
   "metadata": {},
   "outputs": [],
   "source": [
    "#!pip -q install ./python"
   ]
  },
  {
   "cell_type": "code",
   "execution_count": 4,
   "metadata": {},
   "outputs": [],
   "source": [
    "#import gym\n",
    "import random\n",
    "import torch\n",
    "import numpy as np\n",
    "from collections import deque\n",
    "import matplotlib.pyplot as plt\n",
    "%matplotlib inline\n",
    "import pickle\n",
    "from ddpg_agent import Agent"
   ]
  },
  {
   "cell_type": "markdown",
   "metadata": {},
   "source": [
    "The environments corresponding to both versions of the environment are already saved in the Workspace and can be accessed at the file paths provided below.  \n",
    "\n",
    "Please select one of the two options below for loading the environment."
   ]
  },
  {
   "cell_type": "code",
   "execution_count": 8,
   "metadata": {},
   "outputs": [
    {
     "name": "stderr",
     "output_type": "stream",
     "text": [
      "INFO:unityagents:\n",
      "'Academy' started successfully!\n",
      "Unity Academy name: Academy\n",
      "        Number of Brains: 1\n",
      "        Number of External Brains : 1\n",
      "        Lesson number : 0\n",
      "        Reset Parameters :\n",
      "\t\tgoal_speed -> 1.0\n",
      "\t\tgoal_size -> 5.0\n",
      "Unity brain name: ReacherBrain\n",
      "        Number of Visual Observations (per agent): 0\n",
      "        Vector Observation space type: continuous\n",
      "        Vector Observation space size (per agent): 33\n",
      "        Number of stacked Vector Observation: 1\n",
      "        Vector Action space type: continuous\n",
      "        Vector Action space size (per agent): 4\n",
      "        Vector Action descriptions: , , , \n"
     ]
    }
   ],
   "source": [
    "from unityagents import UnityEnvironment\n",
    "#import numpy as np\n",
    "\n",
    "# select this option to load version 1 (with a single agent) of the environment\n",
    "#env = UnityEnvironment(file_name='/data/Reacher_One_Linux_NoVis/Reacher_One_Linux_NoVis.x86_64')\n",
    "\n",
    "# select this option to load version 2 (with 20 agents) of the environment\n",
    "env = UnityEnvironment(file_name=u'Reacher_Windows_x86_64/Reacher.exe')"
   ]
  },
  {
   "cell_type": "markdown",
   "metadata": {},
   "source": [
    "Environments contain **_brains_** which are responsible for deciding the actions of their associated agents. Here we check for the first brain available, and set it as the default brain we will be controlling from Python."
   ]
  },
  {
   "cell_type": "code",
   "execution_count": 9,
   "metadata": {},
   "outputs": [
    {
     "name": "stdout",
     "output_type": "stream",
     "text": [
      "ReacherBrain\n"
     ]
    }
   ],
   "source": [
    "# get the default brain\n",
    "brain_name = env.brain_names[0]\n",
    "brain = env.brains[brain_name]\n",
    "print(brain_name)"
   ]
  },
  {
   "cell_type": "markdown",
   "metadata": {},
   "source": [
    "### 2. Examine the State and Action Spaces\n",
    "\n",
    "Run the code cell below to print some information about the environment."
   ]
  },
  {
   "cell_type": "code",
   "execution_count": 13,
   "metadata": {},
   "outputs": [
    {
     "name": "stdout",
     "output_type": "stream",
     "text": [
      "Number of agents: 20\n",
      "Size of each action: 4\n",
      "There are 20 agents. Each observes a state with length: 33\n",
      "The state for the first agent looks like: [ 0.00000000e+00 -4.00000000e+00  0.00000000e+00  1.00000000e+00\n",
      " -0.00000000e+00 -0.00000000e+00 -4.37113883e-08  0.00000000e+00\n",
      "  0.00000000e+00  0.00000000e+00  0.00000000e+00  0.00000000e+00\n",
      "  0.00000000e+00  0.00000000e+00 -1.00000000e+01  0.00000000e+00\n",
      "  1.00000000e+00 -0.00000000e+00 -0.00000000e+00 -4.37113883e-08\n",
      "  0.00000000e+00  0.00000000e+00  0.00000000e+00  0.00000000e+00\n",
      "  0.00000000e+00  0.00000000e+00  5.75471878e+00 -1.00000000e+00\n",
      "  5.55726624e+00  0.00000000e+00  1.00000000e+00  0.00000000e+00\n",
      " -1.68164849e-01]\n"
     ]
    }
   ],
   "source": [
    "# reset the environment\n",
    "env_info = env.reset(train_mode=True)[brain_name]\n",
    "\n",
    "# number of agents\n",
    "num_agents = len(env_info.agents)\n",
    "print('Number of agents:', num_agents)\n",
    "\n",
    "# size of each action\n",
    "action_size = brain.vector_action_space_size\n",
    "print('Size of each action:', action_size)\n",
    "\n",
    "# examine the state space \n",
    "states = env_info.vector_observations\n",
    "state_size = states.shape[1]\n",
    "print('There are {} agents. Each observes a state with length: {}'.format(states.shape[0], state_size))\n",
    "print('The state for the first agent looks like:', states[0])"
   ]
  },
  {
   "cell_type": "markdown",
   "metadata": {},
   "source": [
    "### 3. Take Random Actions in the Environment\n",
    "\n",
    "In the next code cell, you will learn how to use the Python API to control the agent and receive feedback from the environment.\n",
    "\n",
    "Note that **in this coding environment, you will not be able to watch the agents while they are training**, and you should set `train_mode=True` to restart the environment."
   ]
  },
  {
   "cell_type": "code",
   "execution_count": 6,
   "metadata": {},
   "outputs": [
    {
     "name": "stdout",
     "output_type": "stream",
     "text": [
      "Total score (averaged over agents) this episode: 0.14149999683722853\n"
     ]
    }
   ],
   "source": [
    "env_info = env.reset(train_mode=True)[brain_name]      # reset the environment    \n",
    "states = env_info.vector_observations                  # get the current state (for each agent)\n",
    "scores = np.zeros(num_agents)                          # initialize the score (for each agent)\n",
    "#print(scores)\n",
    "while True:\n",
    "    actions = np.random.randn(num_agents, action_size) # select an action (for each agent)\n",
    "    actions = np.clip(actions, -1, 1)                  # all actions between -1 and 1\n",
    "    env_info = env.step(actions)[brain_name]           # send all actions to tne environment\n",
    "    next_states = env_info.vector_observations         # get next state (for each agent)\n",
    "    rewards = env_info.rewards                         # get reward (for each agent)\n",
    "    #print(rewards)\n",
    "    dones = env_info.local_done                        # see if episode finished\n",
    "    scores += env_info.rewards                         # update the score (for each agent)\n",
    "    states = next_states                               # roll over states to next time step\n",
    "    if np.any(dones):                                  # exit loop if episode finished\n",
    "        break\n",
    "print('Total score (averaged over agents) this episode: {}'.format(np.mean(scores)))"
   ]
  },
  {
   "cell_type": "markdown",
   "metadata": {},
   "source": [
    "When finished, you can close the environment."
   ]
  },
  {
   "cell_type": "code",
   "execution_count": 7,
   "metadata": {},
   "outputs": [
    {
     "name": "stdout",
     "output_type": "stream",
     "text": [
      "<unityagents.brain.BrainInfo object at 0x0000000009D51D68>\n"
     ]
    }
   ],
   "source": [
    "print(env_info)"
   ]
  },
  {
   "cell_type": "markdown",
   "metadata": {},
   "source": [
    "### 4. It's Your Turn!\n",
    "\n",
    "Now it's your turn to train your own agent to solve the environment!  A few **important notes**:\n",
    "- When training the environment, set `train_mode=True`, so that the line for resetting the environment looks like the following:\n",
    "```python\n",
    "env_info = env.reset(train_mode=True)[brain_name]\n",
    "```\n",
    "- To structure your work, you're welcome to work directly in this Jupyter notebook, or you might like to start over with a new file!  You can see the list of files in the workspace by clicking on **_Jupyter_** in the top left corner of the notebook.\n",
    "- In this coding environment, you will not be able to watch the agents while they are training.  However, **_after training the agents_**, you can download the saved model weights to watch the agents on your own machine! "
   ]
  },
  {
   "cell_type": "code",
   "execution_count": 8,
   "metadata": {},
   "outputs": [],
   "source": [
    "env_info = env.reset(train_mode=True)[brain_name]"
   ]
  },
  {
   "cell_type": "code",
   "execution_count": 9,
   "metadata": {},
   "outputs": [
    {
     "name": "stdout",
     "output_type": "stream",
     "text": [
      "{'ReacherBrain': <unityagents.brain.BrainInfo object at 0x0000000009D277F0>}\n"
     ]
    }
   ],
   "source": [
    "state1 = env.reset()\n",
    "print(state1)"
   ]
  },
  {
   "cell_type": "code",
   "execution_count": 10,
   "metadata": {},
   "outputs": [],
   "source": [
    "#agent = Agent(state_size=state_size, action_size=action_size,  num_agents=num_agents, random_seed=2)"
   ]
  },
  {
   "cell_type": "code",
   "execution_count": 11,
   "metadata": {},
   "outputs": [],
   "source": [
    "def ddpg(n_episodes=300, max_t=900, print_every=100,actor_filename='actor.pth',critic_filename='critic.pth',max_score=30):\n",
    "    scores_deque = deque(maxlen=print_every)\n",
    "    allscores = []                          # initialize the score (for each agent)\n",
    "    for i_episode in range(1, n_episodes+1):\n",
    "        #state = env.reset()\n",
    "        env_info = env.reset(train_mode=True)[brain_name]      # reset the environment    \n",
    "        states = env_info.vector_observations                  # get the current state (for each agent)\n",
    "        agent.reset()\n",
    "        scores = np.zeros(num_agents)                          # initialize the score (for each agent)\n",
    "        for t in range(max_t):\n",
    "            actions = agent.act(states)\n",
    "            #next_state, reward, done, _ = env.step(action)\n",
    "            env_info = env.step(actions)[brain_name]           # send all actions to tne environment\n",
    "            \n",
    "            next_states = env_info.vector_observations         # get next state (for each agent)\n",
    "            rewards = env_info.rewards                         # get reward (for each agent)\n",
    "            #print(rewards)\n",
    "            \n",
    "            dones = env_info.local_done                        # see if episode finished\n",
    "            #print(dones)\n",
    "            agent.step(states, actions, rewards, next_states, dones)\n",
    "            states = next_states\n",
    "            scores += rewards                         # update the score (for each agent)\n",
    "            if np.any(dones): \n",
    "                #print(\"breaking...\")\n",
    "                break \n",
    "            #else:\n",
    "                #print(\"not breaking this time...\")\n",
    "        scores_deque.append(np.mean(scores))\n",
    "        allscores.append(np.mean(scores))\n",
    "        print('\\rEpisode {}\\tAverage Score: {:.2f}'.format(i_episode, np.mean(scores_deque)), end=\"\")\n",
    "        torch.save(agent.actor_local.state_dict(), 'checkpoint_actor.pth')\n",
    "        torch.save(agent.critic_local.state_dict(), 'checkpoint_critic.pth')\n",
    "        if i_episode % print_every == 0:\n",
    "            print('\\rEpisode {}\\tAverage Score: {:.2f}'.format(i_episode, np.mean(scores_deque)))\n",
    "        if np.mean(scores_deque)>=max_score:\n",
    "            print('\\nEnvironment solved in {:d} episodes!\\tAverage Score: {:.2f}'.format(i_episode-100, np.mean(scores_deque)))\n",
    "            torch.save(agent.actor_local.state_dict(), actor_filename)\n",
    "            torch.save(agent.critic_local.state_dict(), critic_filename)\n",
    "            break\n",
    "            \n",
    "    return allscores\n",
    "\n"
   ]
  },
  {
   "cell_type": "code",
   "execution_count": 11,
   "metadata": {},
   "outputs": [],
   "source": [
    "BUFFER_SIZES = [int(1e5),int(1e5),int(1e5),int(1e5),int(1e5),int(1e5)]  # replay buffer size\n",
    "BATCH_SIZES = [128,128,128,64,64,32]        # minibatch size\n",
    "GAMMAS = [0.99,0.99,0.99,0.99,0.99,0.99]            # discount factor\n",
    "TAUS = [1e-3,1e-3,1e-3,2e-3,2e-3,2e-3]              # for soft update of target parameters\n",
    "LR_ACTORS = [3e-4,2e-4,1e-4,1e-3,1e-3,1e-3]         # learning rate of the actor \n",
    "LR_CRITICS = [1e-4,5e-5,3e-5,1e-4,1e-4,1e-4]        # learning rate of the critic\n",
    "WEIGHT_DECAYS = [0,0,0,0,0,0]        # L2 weight decay\n",
    "fc1_unitss = [150,150,150,150,200,200] \n",
    "fc2_unitss = [300,300,300,300,300,300]\n",
    "seed = 2"
   ]
  },
  {
   "cell_type": "code",
   "execution_count": 15,
   "metadata": {},
   "outputs": [],
   "source": [
    "#results = []\n",
    "pickle_in = open(\"results.pickle\",\"rb\")\n",
    "results = pickle.load(pickle_in)\n",
    "for BUFFER_SIZE, BATCH_SIZE, GAMMA, TAU, LR_ACTOR, LR_CRITIC, WEIGHT_DECAY, fc1_units, fc2_units in zip(BUFFER_SIZES, BATCH_SIZES, GAMMAS, TAUS, LR_ACTORS, LR_CRITICS, WEIGHT_DECAYS, fc1_unitss, fc2_unitss):\n",
    "    agent = Agent(state_size=state_size, action_size=action_size, num_agents=num_agents,\n",
    "                   random_seed=seed, BUFFER_SIZE=BUFFER_SIZE,\n",
    "                   BATCH_SIZE=BATCH_SIZE, GAMMA=GAMMA, TAU=TAU, LR_ACTOR=LR_ACTOR,\n",
    "                   LR_CRITIC=LR_CRITIC, WEIGHT_DECAY=WEIGHT_DECAY, fc1_units=fc1_units,fc2_units=fc2_units)\n",
    "    actor_filename = u'models\\Actor_' + str(BUFFER_SIZE)+'_'+ str(BATCH_SIZE) +'_'+ str(TAU) +'_'+ str(LR_ACTOR) +'_'+ str(LR_CRITIC) +'_'+ str(WEIGHT_DECAY) +'_'+ str(fc1_units)+'_'+ str(fc2_units) + '.pth'\n",
    "    critic_filename = u'models\\Critic_' + str(BUFFER_SIZE)+'_'+ str(BATCH_SIZE) +'_'+ str(TAU) +'_'+ str(LR_ACTOR) +'_'+ str(LR_CRITIC) +'_'+ str(WEIGHT_DECAY) +'_'+ str(fc1_units)+'_'+ str(fc2_units) + '.pth'\n",
    "    allscores = ddpg(actor_filename = actor_filename,critic_filename= critic_filename)\n",
    "    results = results + [(BUFFER_SIZE, BATCH_SIZE, TAU, LR_ACTOR, LR_CRITIC, WEIGHT_DECAY, fc1_units, fc2_units,allscores)]"
   ]
  },
  {
   "cell_type": "code",
   "execution_count": null,
   "metadata": {},
   "outputs": [],
   "source": []
  },
  {
   "cell_type": "code",
   "execution_count": 7,
   "metadata": {},
   "outputs": [
    {
     "data": {
      "image/png": "[encoded data removed]",
      "text/plain": [
       "<Figure size 432x288 with 1 Axes>"
      ]
     },
     "metadata": {
      "needs_background": "light"
     },
     "output_type": "display_data"
    }
   ],
   "source": [
    "#allscores = ddpg()\n",
    "fig = plt.figure()\n",
    "idx=0\n",
    "for (BUFFER_SIZE, BATCH_SIZE, TAU, LR_ACTOR, LR_CRITIC, WEIGHT_DECAY, fc1_units, fc2_units,allscores) in results:\n",
    "    idx=idx+1\n",
    "    ax = fig.add_subplot(111)\n",
    "    plt.plot(np.arange(1, len(allscores)+1), allscores, label='Case '+str(idx))\n",
    "    plt.ylabel('Score')\n",
    "    plt.xlabel('Episode #')\n",
    "plt.legend()\n",
    "plt.show()"
   ]
  },
  {
   "cell_type": "code",
   "execution_count": 30,
   "metadata": {},
   "outputs": [
    {
     "name": "stdout",
     "output_type": "stream",
     "text": [
      "(100000, 128, 0.001, 0.001, 0.0001, 0, 200, 400, 113)\n",
      "(100000, 128, 0.001, 0.001, 0.0001, 0, 200, 400, 111)\n",
      "(200000, 64, 0.005, 0.0005, 5e-05, 0.0001, 300, 600, 110)\n",
      "(100000, 128, 0.001, 0.0003, 0.0001, 0, 150, 300, 114)\n",
      "(100000, 128, 0.001, 0.0002, 5e-05, 0, 150, 300, 136)\n",
      "(100000, 128, 0.001, 0.0001, 3e-05, 0, 150, 300, 130)\n",
      "(100000, 64, 0.002, 0.001, 0.0001, 0, 150, 300, 107)\n",
      "(100000, 64, 0.002, 0.001, 0.0001, 0, 200, 300, 112)\n",
      "(100000, 32, 0.002, 0.001, 0.0001, 0, 200, 300, 147)\n",
      "(100000, 32, 0.002, 0.001, 0.0001, 0, 200, 300, 147)\n"
     ]
    }
   ],
   "source": [
    "for (BUFFER_SIZE, BATCH_SIZE, TAU, LR_ACTOR, LR_CRITIC, WEIGHT_DECAY, fc1_units, fc2_units,allscores) in results:\n",
    "    print ((BUFFER_SIZE, BATCH_SIZE, TAU, LR_ACTOR, LR_CRITIC, WEIGHT_DECAY, fc1_units, fc2_units,len(allscores)),sep='\\t')"
   ]
  },
  {
   "cell_type": "code",
   "execution_count": 29,
   "metadata": {},
   "outputs": [
    {
     "name": "stdout",
     "output_type": "stream",
     "text": [
      "(100000, 128, 0.001, 0.001, 0.0001, 0, 200, 400, [0.3074999931268394, 0.009999999776482582, 0.16699999626725912, 0.1444999967701733, 0.5554999875836074, 0.8009999820962548, 0.9924999778158963, 1.1474999743513763, 1.490499966684729, 2.0894999532960354, 2.888999935425818, 2.9799999333918095, 3.093499930854887, 2.8909999353811147, 3.0684999314136805, 2.7979999374598266, 4.36299990247935, 5.463999877870083, 6.458499855641276, 7.516499831993133, 8.269999815151095, 11.878499734494834, 13.613499695714562, 14.468999676592649, 18.00399959757924, 19.00649957517162, 21.825999512150883, 22.239499502908437, 24.53799945153296, 26.59399940557778, 28.62499936018139, 30.952499308157712, 32.12799928188324, 32.747499268036336, 33.580499249417336, 33.946499241236594, 33.903499242197725, 34.53699922803789, 34.241999234631656, 34.47299922946841, 34.32099923286587, 34.701999224349855, 34.84599922113121, 34.35249923216179, 34.62499922607094, 34.23749923473224, 34.389499231334774, 34.447499230038375, 34.05549923880026, 34.256499234307555, 34.09699923787266, 33.84199924357235, 33.5714992496185, 32.97449926296249, 33.45249925227836, 33.074499260727315, 34.210999235324564, 33.616999248601495, 33.550999250076714, 34.09399923793971, 33.68299924712628, 34.31399923302233, 32.99399926252663, 32.91349926432595, 33.61199924871325, 33.831499243807045, 32.886999264918266, 33.25349925672636, 33.389499253686516, 33.70899924654513, 34.11099923755974, 33.12299925964326, 33.75949924541637, 33.69749924680218, 34.00149924000725, 33.050999261252585, 33.863499243091795, 33.26199925653636, 33.94299924131483, 33.820999244041744, 33.86149924313649, 33.35099925454706, 33.929499241616575, 33.68499924708158, 32.69599926918745, 34.020999239571395, 34.08599923811853, 33.732999246008696, 34.49649922894314, 33.21449925759807, 33.997999240085484, 33.74299924578518, 33.911499242018905, 33.51699925083667, 34.104999237693846, 34.03699923921376, 33.344499254692344, 33.95499924104661, 34.18299923595041, 33.60449924888089, 33.86199924312532, 34.34399923235178, 34.173499236162755, 34.250999234430495, 33.885499242600055, 34.06849923850969, 34.18299923595041, 33.6294992483221, 34.16649923631921, 33.18749925820157, 34.00399923995137, 33.908999242074785, 33.89449924239889])\t(100000, 128, 0.001, 0.001, 0.0001, 0, 200, 400, [0.1289999971166253, 0.10399999767541886, 0.41149999080225824, 0.9814999780617655, 1.0754999759607018, 0.9109999796375632, 1.2024999731220305, 1.266999971680343, 1.5199999660253525, 1.661499962862581, 1.602999964170158, 2.245499949809164, 2.653999940678477, 2.83349993666634, 4.470999900065363, 4.009499910380692, 4.674499895516783, 6.531499854009598, 7.882499823812395, 8.762999804131686, 10.023999775946141, 14.041499686148018, 16.454499632213263, 19.98999955318868, 24.41949945418164, 26.08199941702187, 28.579499361198394, 29.82849933328107, 31.125999304279684, 33.43499925266951, 33.96899924073368, 34.4439992301166, 34.26449923412874, 34.13249923707917, 34.34749923227355, 34.19999923557043, 34.328499232698235, 34.07749923830852, 34.52449922831729, 33.95999924093485, 34.32249923283234, 33.84199924357235, 34.210999235324564, 33.86399924308061, 33.73849924588576, 33.72849924610928, 33.107999259978534, 33.19249925808981, 33.25049925679341, 33.16099925879389, 33.43149925274774, 33.29199925586581, 33.45699925217777, 33.55399925000965, 33.154499258939175, 33.213999257609245, 33.59949924899265, 33.980999240465465, 32.8129992665723, 34.142499236855656, 33.322499255184084, 33.20149925788864, 33.8014992444776, 33.716499246377495, 33.88399924263358, 34.453999229893085, 34.16349923638627, 33.91449924195185, 33.86699924301356, 34.09399923793971, 34.29549923343584, 33.8989992422983, 34.063499238621446, 34.0564992387779, 33.888499242533, 34.59699922669679, 34.24799923449755, 34.4169992307201, 33.475999251753095, 33.7579992454499, 34.25449923435226, 34.492499229032546, 33.80249924445525, 34.36449923189357, 34.16599923633039, 34.40049923108891, 34.38149923151359, 34.213499235268685, 34.20449923546985, 34.176499236095694, 33.791499244701114, 33.96749924076721, 34.30249923327938, 33.87899924274534, 33.97399924062192, 33.769499245192854, 33.789999244734645, 33.88599924258888, 34.232499234844, 34.35799923203886, 34.34299923237413, 34.3029992332682, 33.73899924587458, 34.1889992358163, 33.74299924578518, 34.24799923449755, 33.913999241963026, 33.49099925141782, 33.73849924588576, 33.735499245952816, 33.74449924575165])\t(200000, 64, 0.005, 0.0005, 5e-05, 0.0001, 300, 600, [0.3619999919086695, 0.3659999918192625, 0.4399999901652336, 0.5409999879077076, 0.6594999852590263, 0.8264999815262855, 1.161999974027276, 1.2304999724961818, 1.8634999583475291, 1.66499996278435, 2.1824999512173235, 3.3829999243840576, 3.6684999180026354, 4.1259999077767135, 3.699499917309731, 5.477499877568334, 5.605499874707311, 6.390999857150018, 7.712999827601015, 11.572999741323292, 14.414999677799642, 16.450999632291495, 17.781499602552504, 21.386999521963297, 24.21099945884198, 27.43349938681349, 30.17849932545796, 31.293499300535768, 32.38499927613884, 33.70049924673513, 33.70899924654513, 33.91249924199656, 34.77049922281876, 34.5744992271997, 34.66949922507629, 34.59799922667444, 34.46099922973663, 34.39899923112243, 34.16899923626333, 33.6149992486462, 33.38649925375357, 33.495499251317234, 33.72399924620986, 33.08549926048145, 33.57649924950674, 34.18549923589453, 33.54949925011024, 33.58299924936146, 33.78149924492463, 33.42999925278127, 33.457999252155425, 32.67999926954508, 33.535499250423165, 33.816999244131146, 34.13149923710152, 33.61599924862385, 33.750999245606366, 34.03449923926964, 34.20099923554808, 34.075499238353224, 33.54349925024435, 33.402499253395945, 33.43199925273657, 33.510999250970784, 34.03099923934788, 34.25149923441931, 33.443499252479526, 33.78249924490228, 33.63299924824387, 33.52199925072491, 33.29749925574288, 34.08999923802912, 33.43799925260246, 33.57849924946204, 33.86799924299121, 33.81099924426526, 33.8719992429018, 33.825999243929985, 33.89549924237654, 33.62899924833327, 33.69599924683571, 33.403499253373596, 33.96149924090132, 33.39499925356358, 32.048499283660206, 33.76399924531579, 33.300499255675824, 33.26749925641343, 33.59299924913794, 33.64349924800918, 33.93099924158305, 34.041999239102005, 34.13449923703447, 34.178999236039814, 33.79849924454466, 33.6294992483221, 33.960499240923674, 33.593499249126765, 33.673999247327444, 33.66749924747273, 33.64099924806506, 33.960499240923674, 33.87849924275652, 34.293999233469364, 33.943499241303655, 33.97199924066663, 34.301499233301726, 33.80249924445525, 34.116999237425624, 33.788499244768175])\t(100000, 128, 0.001, 0.0003, 0.0001, 0, 150, 300, [0.7994999821297825, 0.7724999827332795, 0.8499999810010195, 0.8539999809116126, 0.9494999787770212, 1.4104999684728683, 1.2794999714009463, 1.1094999752007424, 1.0479999765753747, 1.3069999707862734, 1.5319999657571315, 2.122499952558428, 2.3684999470598997, 2.4104999461211265, 2.9314999344758688, 3.372499924618751, 4.453999900445342, 5.507999876886606, 4.9474998894147575, 6.700999850220978, 7.17349983965978, 10.510999765060841, 11.053499752935021, 11.326499746832997, 14.8699996676296, 19.308499568421393, 21.086499528679997, 25.089499439205973, 26.564499406237154, 28.02449937360361, 29.947499330621213, 31.721999290958045, 32.64199927039444, 32.8399992659688, 33.10699926000088, 34.09199923798442, 33.91349924197421, 33.89149924246594, 34.14999923668802, 34.604999226517975, 34.152999236620964, 34.29149923352524, 34.40699923094362, 34.15849923649803, 34.27499923389405, 34.15349923660979, 34.11099923755974, 34.00099924001843, 33.62549924841151, 33.74099924582988, 32.757999267801644, 33.12949925949797, 32.610499271098526, 33.38149925386533, 32.95649926336482, 32.64349927036092, 32.14349928153679, 32.67499926965684, 32.052499283570796, 33.360999254323545, 33.35349925449118, 33.734499245975165, 33.62349924845621, 33.72499924618751, 33.85349924331531, 33.8719992429018, 33.541999250277875, 33.816999244131146, 33.52049925075844, 33.880499242711814, 33.79599924460054, 33.17299925852567, 33.11649925978854, 33.479999251663685, 33.154999258928, 33.647999247908594, 33.43449925268069, 33.35649925442412, 33.096499260235575, 33.41849925303832, 33.99499924015254, 33.670999247394505, 33.84599924348295, 33.94199924133718, 33.63049924829975, 33.83349924376235, 34.10799923762679, 34.1164992374368, 34.13549923701212, 33.50599925108254, 33.53449925044551, 33.325999255105856, 33.827499243896455, 33.661999247595666, 33.846999243460594, 33.93499924149364, 33.66699924748391, 33.98149924045428, 34.11049923757091, 33.49649925129488, 33.555999249964955, 33.718999246321616, 33.59149924917146, 34.08149923821911, 34.139999236911535, 33.673999247327444, 33.614499248657374, 33.48299925159663, 33.78799924477935, 33.63699924815446, 33.75599924549461, 34.023499239515516, 33.982499240431935, 33.909999242052436])\t(100000, 128, 0.001, 0.0002, 5e-05, 0, 150, 300, [0.3579999919980764, 0.7434999833814799, 0.7069999841973186, 0.7134999840520322, 0.6559999853372573, 0.7964999821968377, 0.6684999850578606, 1.0359999768435955, 0.8509999809786677, 1.006999977491796, 1.262499971780926, 1.0304999769665302, 1.0629999762400986, 1.2709999715909361, 1.3569999696686863, 1.7499999608844519, 1.7949999598786235, 2.064499953854829, 2.0854999533854426, 2.7014999396167694, 2.583999942243099, 2.875999935716391, 3.035499932151288, 4.026999909989536, 4.093499908503145, 4.117499907966703, 4.3329999031499025, 5.070999886654318, 4.685999895259738, 5.47449987763539, 5.875999868661165, 7.427499833982438, 7.864999824203551, 7.952499822247773, 9.121999796107412, 9.92349977819249, 10.533499764557927, 11.600999740697443, 11.1524997507222, 12.075499730091542, 11.038999753259123, 15.469999654218554, 15.336999657191337, 14.892499667126685, 17.41649961071089, 18.016999597288667, 19.15399957187474, 20.206999548338352, 22.36049950020388, 24.053999462351204, 23.579499472957103, 24.131499460618944, 26.13149941591546, 27.117499393876642, 27.376999388076364, 28.79199935644865, 29.47249934123829, 29.285499345418067, 29.709499335940926, 29.901499331649394, 30.82399931102991, 29.965499330218883, 31.262999301217498, 31.818499288801103, 31.630999292992055, 32.13399928174913, 32.67499926965684, 32.27299927864224, 32.50049927355722, 32.25299927908927, 33.65599924772978, 33.71699924636632, 33.402499253395945, 32.94299926366657, 33.23249925719574, 33.40049925344065, 33.64999924786389, 33.824999243952334, 33.346999254636465, 33.67999924719334, 33.266999256424604, 33.75699924547225, 33.46149925207719, 32.51299927327782, 33.10249926010147, 33.584499249327926, 32.6554992700927, 33.18349925829098, 32.92899926397949, 32.95849926332012, 32.34399927705526, 32.93149926392361, 31.979999285191298, 32.567999272048475, 33.475999251753095, 33.30399925559759, 32.94549926361069, 33.54349925024435, 32.549999272450805, 33.24449925692752, 34.23499923478812, 33.04549926137552, 32.78549926718697, 33.477499251719564, 33.31799925528467, 33.21599925756455, 33.43549925265834, 33.019999261945486, 34.06999923847616, 33.35449925446883, 33.4699992518872, 33.526499250624326, 33.38649925375357, 33.25299925673753, 33.707499246578664, 33.535499250423165, 33.831499243807045, 33.88399924263358, 33.071999260783194, 32.93149926392361, 33.30899925548583, 33.26649925643578, 32.71649926872924, 32.746499268058685, 32.66149926995858, 33.168499258626255, 33.32149925520643, 33.595999249070886, 32.63849927047268, 32.858499265555295, 33.00249926233664, 32.99999926239252, 33.53249925049022, 32.809499266650526, 33.500499251205476, 33.85399924330413])\t(100000, 128, 0.001, 0.0001, 3e-05, 0, 150, 300, [0.363999991863966, 0.6804999847896397, 0.5754999871365726, 0.7014999843202532, 0.5854999869130552, 0.36999999172985554, 0.33799999244511125, 0.3579999919980764, 0.48499998915940523, 0.46599998958408834, 0.8619999807327986, 1.0539999764412642, 1.2824999713338912, 1.5199999660253525, 1.5039999663829804, 1.722999961487949, 2.021499954815954, 1.4779999669641257, 2.0454999542795123, 1.6904999622143806, 2.0349999545142055, 2.0739999536424873, 2.7749999379739165, 2.497999944165349, 3.035499932151288, 3.2349999276921153, 3.43049992332235, 3.8079999148845673, 3.3914999241940675, 4.505499899294227, 5.165999884530902, 5.714499872270972, 5.757499871309847, 6.727999849617481, 6.764499848801643, 8.745999804511666, 9.055499797593802, 10.967999754846096, 13.191499705146999, 17.034499619249253, 19.214499570522456, 20.88949953308329, 22.866499488893897, 24.205999458953738, 26.89099939893931, 26.501999407634138, 27.52649938473478, 28.80199935622513, 28.810499356035145, 30.76549931233749, 30.78749931184575, 31.951499285828323, 32.43549927501008, 32.65699927005917, 32.72349926857278, 33.253999256715176, 33.049999261274934, 32.32549927746877, 33.21549925757572, 33.734499245975165, 33.31349925538525, 33.78799924477935, 33.69599924683571, 33.71949924631044, 34.002999239973725, 33.845499243494125, 33.47949925167486, 33.91799924187362, 34.119499237369745, 33.89799924232066, 34.026499239448455, 34.2054992354475, 33.25349925672636, 33.12299925964326, 34.21149923531338, 33.938499241415414, 33.5879992492497, 33.716499246377495, 33.62149924850091, 33.54599925018847, 33.38399925380945, 33.56299924980849, 33.73499924596399, 33.73599924594164, 33.774499245081095, 34.23849923470989, 33.39699925351888, 32.99099926259369, 33.985999240353706, 33.68949924698099, 32.99649926247075, 33.211499257665125, 32.903999264538285, 33.293999255821106, 33.68249924713746, 33.56699924971908, 33.71599924638868, 33.24699925687164, 32.98349926276133, 33.62049924852327, 34.03699923921376, 32.40749927563593, 33.668499247450384, 33.62899924833327, 32.75199926793575, 32.58799927160144, 33.09849926019088, 33.306999255530535, 33.055999261140826, 32.981499262806025, 33.59149924917146, 32.86799926534295, 33.93299924153835, 33.47249925183132, 31.66549929222092, 32.74949926799163, 33.33999925479293, 33.010999262146655, 33.401499253418294, 33.796499244589356, 33.12649925956502, 32.82799926623702, 33.00449926229194, 32.87199926525354, 33.43799925260246, 32.67449926966801, 33.1694992586039, 33.058999261073765, 32.973499262984845, 33.1859992582351])\t(100000, 64, 0.002, 0.001, 0.0001, 0, 150, 300, [0.3454999922774732, 0.6334999858401715, 0.9544999786652625, 0.8329999813809991, 1.0329999769106508, 1.0054999775253237, 1.4499999675899744, 1.5514999653212727, 1.9064999573864043, 2.5999999418854713, 2.718999939225614, 3.4554999227635563, 3.59399991966784, 4.129499907698483, 5.53749987622723, 7.5184998319484295, 8.905499800946563, 11.852999735064804, 18.028999597020448, 18.124499594885854, 22.527499496471137, 27.246499390993268, 30.04649932840839, 32.900999264605346, 32.86049926551059, 33.939999241381884, 33.8759992428124, 34.5059992287308, 34.86699922066182, 34.4624992297031, 34.031499239336696, 34.334999232552946, 33.922999241761865, 34.409999230876565, 34.3444992323406, 34.20899923536926, 34.36549923187122, 33.9174992418848, 32.60049927132204, 33.24799925684929, 32.433999275043604, 32.8089992666617, 32.46299927439541, 33.2814992561005, 33.46549925198779, 32.390999276004734, 33.73149924604222, 33.35899925436824, 33.061499261017886, 33.053999261185524, 33.13799925930798, 33.26199925653636, 33.522499250713736, 33.274499256256966, 33.692999246902765, 33.619499248545615, 32.921999264135955, 33.249999256804585, 33.20299925785512, 33.22199925743043, 33.231999257206915, 33.45349925225601, 33.21549925757572, 34.03199923932552, 33.581999249383806, 33.51699925083667, 33.70399924665689, 33.47049925187603, 33.630999248288575, 33.326499255094674, 32.920499264169486, 33.01299926210195, 34.09299923796207, 34.119499237369745, 33.77399924509227, 34.037999239191414, 34.059999238699675, 33.962999240867795, 33.8759992428124, 33.88099924270064, 33.988999240286645, 34.07999923825264, 33.88499924261123, 33.7994992445223, 34.411499230843035, 33.77849924499169, 34.17399923615157, 33.83799924366176, 33.87499924283475, 33.70349924666807, 34.08349923817441, 33.78649924481287, 33.59049924919382, 34.25149923441931, 33.50849925102666, 34.09449923792854, 34.35249923216179, 34.06849923850969, 34.59749922668561, 34.26599923409522, 34.102499237749726, 34.16799923628569, 34.03899923916906, 34.26299923416227, 33.7144992464222, 33.926999241672455, 34.390499231312425])\t(100000, 64, 0.002, 0.001, 0.0001, 0, 200, 300, [0.05199999883770943, 0.39649999113753437, 0.5714999872259796, 0.7334999836049974, 0.7399999834597111, 0.7184999839402735, 1.0049999775364995, 0.9849999779835343, 1.4159999683499336, 1.5909999644383788, 2.196999950893223, 2.9209999347105624, 2.790999937616289, 3.620499919075519, 4.369999902322888, 4.913499890174717, 6.636499851662665, 6.109499863442034, 7.176499839592725, 6.959999844431877, 9.637499784585088, 11.156999750621617, 14.4099996779114, 17.006999619863926, 19.740499558765443, 23.148499482590704, 27.412499387282878, 31.566999294422565, 32.548999272473154, 32.36849927650765, 33.92899924162775, 33.6854992470704, 34.046999238990246, 34.141499236878005, 34.1184992373921, 34.23099923487753, 34.100999237783256, 34.22349923504517, 33.836499243695286, 33.98199924044311, 33.713499246444556, 33.444999252445996, 33.518999250791964, 32.74299926813692, 32.47849927404896, 32.478999274037776, 33.55949924988672, 33.053499261196706, 33.403999253362414, 33.252499256748706, 33.42899925280362, 33.634999248199165, 33.280999256111684, 33.17299925852567, 33.20249925786629, 32.92399926409125, 32.917999264225365, 32.570499271992595, 33.51799925081432, 33.77949924496934, 33.265499256458135, 33.061499261017886, 33.56449924977496, 32.78449926720932, 32.584999271668494, 33.170999258570376, 33.265499256458135, 33.7144992464222, 33.62149924850091, 33.68849924700335, 33.62799924835563, 32.93799926377833, 33.56499924976379, 33.11649925978854, 33.20449925782159, 33.86449924306944, 33.42599925287068, 33.48699925150722, 33.86149924313649, 34.15599923655391, 33.399499253463, 33.670999247394505, 34.06749923853204, 33.99899924006313, 33.57649924950674, 33.830999243818226, 34.21049923533574, 33.694499246869235, 33.792499244678766, 33.67999924719334, 33.62349924845621, 33.80499924439937, 33.80399924442172, 33.59149924917146, 33.90549924215302, 33.77899924498051, 33.71699924636632, 33.596499249059704, 33.99849924007431, 34.11599923744798, 33.67999924719334, 33.863499243091795, 32.74549926808104, 33.37949925391003, 33.882999242655934, 33.80499924439937, 34.06449923859909, 34.120499237347396, 33.24049925701693, 34.063999238610265, 33.46799925193191, 33.5279992505908])\t(100000, 32, 0.002, 0.001, 0.0001, 0, 200, 300, [0.813499981816858, 0.5324999880976975, 0.5044999887235463, 0.4864999891258776, 0.5839999869465828, 0.7574999830685556, 0.6844999847002328, 1.1559999741613864, 1.0669999761506914, 1.3109999706968665, 1.5164999661035836, 1.8894999577663838, 2.1774999513290823, 2.0894999532960354, 2.4179999459534884, 2.536999943293631, 2.7989999374374745, 3.597499919589609, 3.767999915778637, 2.9834999333135785, 3.674999917857349, 3.1149999303743243, 4.206999905966223, 3.8234999145381154, 3.767499915789813, 4.801499892678112, 5.058999886922538, 5.487499877344817, 4.920999890007079, 4.902499890420586, 4.622499896679074, 5.33899988066405, 6.030999865196645, 4.166999906860292, 4.451499900501221, 5.1024998859502375, 4.642499896232039, 4.218499905709177, 6.042999864928424, 5.512999876774847, 7.115999840945006, 8.756499804276974, 8.741999804601074, 9.096499796677382, 9.809999780729413, 12.582499718759209, 11.444999744184315, 11.329499746765942, 12.305499724950641, 13.805999691411852, 13.587999696284532, 14.391999678313733, 14.52249967539683, 14.840499668288976, 15.219499659817666, 16.68399962708354, 15.800999646820127, 18.329999590292573, 16.146999639086424, 18.12849959479645, 20.94999953173101, 18.45199958756566, 21.89599951058626, 22.838499489519744, 25.405999432131647, 25.908999420888723, 27.695499380957337, 29.580999338813125, 28.702999358437957, 30.742499312851578, 32.992999262548985, 32.726999268494545, 33.00699926223606, 34.44549923008308, 33.07649926068261, 34.62249922612682, 34.053499238844964, 34.10999923758209, 34.01399923972785, 34.38599923141301, 33.64949924787506, 34.196999235637485, 34.57349922722206, 33.6584992476739, 33.6729992473498, 33.87099924292416, 31.58299929406494, 32.668999269790945, 33.80899924430996, 32.5394992726855, 33.50999925099313, 32.94499926362187, 33.601499248947945, 32.50199927352369, 33.496999251283704, 34.18549923589453, 33.669999247416854, 33.74699924569577, 33.18349925829098, 33.22649925732985, 33.287499255966395, 32.67849926957861, 32.86949926530942, 33.14749925909564, 33.15599925890565, 33.28049925612286, 33.18249925831333, 33.055999261140826, 33.44799925237894, 33.44049925254658, 32.1954992803745, 33.076999260671435, 32.411999275535344, 32.18899928051978, 32.744999268092215, 33.74049924584106, 33.04649926135316, 32.87449926519766, 32.55049927243963, 32.5644992721267, 31.822999288700522, 32.93399926386773, 32.336999277211724, 31.95499928575009, 32.96099926326424, 33.20449925782159, 33.01849926197902, 32.159999281167984, 32.124999281950295, 33.050999261252585, 33.33999925479293, 32.26099927891046, 32.667499269824475, 32.65749927004799, 32.96699926313013, 33.435999252647164, 33.83299924377352, 32.739999268203974, 33.83699924368411, 33.10399926006794, 33.37899925392121, 33.25549925668165, 33.43799925260246, 33.99249924020842, 32.82949926620349, 33.36199925430119, 32.94999926351011])\t(100000, 32, 0.002, 0.001, 0.0001, 0, 200, 300, [0.813499981816858, 0.5324999880976975, 0.5044999887235463, 0.4864999891258776, 0.5839999869465828, 0.7574999830685556, 0.6844999847002328, 1.1559999741613864, 1.0669999761506914, 1.3109999706968665, 1.5164999661035836, 1.8894999577663838, 2.1774999513290823, 2.0894999532960354, 2.4179999459534884, 2.536999943293631, 2.7989999374374745, 3.597499919589609, 3.767999915778637, 2.9834999333135785, 3.674999917857349, 3.1149999303743243, 4.206999905966223, 3.8234999145381154, 3.767499915789813, 4.801499892678112, 5.058999886922538, 5.487499877344817, 4.920999890007079, 4.902499890420586, 4.622499896679074, 5.33899988066405, 6.030999865196645, 4.166999906860292, 4.451499900501221, 5.1024998859502375, 4.642499896232039, 4.218499905709177, 6.042999864928424, 5.512999876774847, 7.115999840945006, 8.756499804276974, 8.741999804601074, 9.096499796677382, 9.809999780729413, 12.582499718759209, 11.444999744184315, 11.329499746765942, 12.305499724950641, 13.805999691411852, 13.587999696284532, 14.391999678313733, 14.52249967539683, 14.840499668288976, 15.219499659817666, 16.68399962708354, 15.800999646820127, 18.329999590292573, 16.146999639086424, 18.12849959479645, 20.94999953173101, 18.45199958756566, 21.89599951058626, 22.838499489519744, 25.405999432131647, 25.908999420888723, 27.695499380957337, 29.580999338813125, 28.702999358437957, 30.742499312851578, 32.992999262548985, 32.726999268494545, 33.00699926223606, 34.44549923008308, 33.07649926068261, 34.62249922612682, 34.053499238844964, 34.10999923758209, 34.01399923972785, 34.38599923141301, 33.64949924787506, 34.196999235637485, 34.57349922722206, 33.6584992476739, 33.6729992473498, 33.87099924292416, 31.58299929406494, 32.668999269790945, 33.80899924430996, 32.5394992726855, 33.50999925099313, 32.94499926362187, 33.601499248947945, 32.50199927352369, 33.496999251283704, 34.18549923589453, 33.669999247416854, 33.74699924569577, 33.18349925829098, 33.22649925732985, 33.287499255966395, 32.67849926957861, 32.86949926530942, 33.14749925909564, 33.15599925890565, 33.28049925612286, 33.18249925831333, 33.055999261140826, 33.44799925237894, 33.44049925254658, 32.1954992803745, 33.076999260671435, 32.411999275535344, 32.18899928051978, 32.744999268092215, 33.74049924584106, 33.04649926135316, 32.87449926519766, 32.55049927243963, 32.5644992721267, 31.822999288700522, 32.93399926386773, 32.336999277211724, 31.95499928575009, 32.96099926326424, 33.20449925782159, 33.01849926197902, 32.159999281167984, 32.124999281950295, 33.050999261252585, 33.33999925479293, 32.26099927891046, 32.667499269824475, 32.65749927004799, 32.96699926313013, 33.435999252647164, 33.83299924377352, 32.739999268203974, 33.83699924368411, 33.10399926006794, 33.37899925392121, 33.25549925668165, 33.43799925260246, 33.99249924020842, 32.82949926620349, 33.36199925430119, 32.94999926351011])\n"
     ]
    }
   ],
   "source": []
  },
  {
   "cell_type": "code",
   "execution_count": 17,
   "metadata": {},
   "outputs": [
    {
     "data": {
      "text/plain": [
       "[(1, 2, [3, 4, 5]), (4, 5, [41, 2]), (1, 2, [1, 2, 33]), ()]"
      ]
     },
     "execution_count": 17,
     "metadata": {},
     "output_type": "execute_result"
    }
   ],
   "source": [
    "tpl + [(1,2,[1,2,33])]+ [()]"
   ]
  },
  {
   "cell_type": "code",
   "execution_count": 18,
   "metadata": {},
   "outputs": [],
   "source": [
    "tpl = []"
   ]
  },
  {
   "cell_type": "code",
   "execution_count": 19,
   "metadata": {},
   "outputs": [],
   "source": [
    "tpl = [(1,2),(3,4),(5,6)]"
   ]
  },
  {
   "cell_type": "code",
   "execution_count": 20,
   "metadata": {},
   "outputs": [
    {
     "name": "stdout",
     "output_type": "stream",
     "text": [
      "3\n",
      "7\n",
      "11\n"
     ]
    }
   ],
   "source": [
    "for (a,b) in tpl:\n",
    "    print(a+b)"
   ]
  },
  {
   "cell_type": "code",
   "execution_count": 21,
   "metadata": {},
   "outputs": [],
   "source": [
    "results = results + [(BUFFER_SIZE, BATCH_SIZE, TAU, LR_ACTOR, LR_CRITIC, WEIGHT_DECAY, fc1_units, fc2_units,allscores)]\n"
   ]
  },
  {
   "cell_type": "code",
   "execution_count": 22,
   "metadata": {},
   "outputs": [],
   "source": [
    "with open('listfile.txt', 'w') as filehandle:  \n",
    "    for listitem in results:\n",
    "        filehandle.write('%s\\n' % str(listitem))"
   ]
  },
  {
   "cell_type": "code",
   "execution_count": 36,
   "metadata": {},
   "outputs": [],
   "source": [
    "case = 2\n",
    "\n",
    "agent = Agent(state_size=state_size, action_size=action_size, num_agents=num_agents,\n",
    "                   random_seed=seed, BUFFER_SIZE=BUFFER_SIZES[case],\n",
    "                   BATCH_SIZE=BATCH_SIZES[case], GAMMA=GAMMAS[case], TAU=TAUS[case], LR_ACTOR=LR_ACTORS[case],\n",
    "                   LR_CRITIC=LR_CRITICS[case], WEIGHT_DECAY=WEIGHT_DECAYS[case], fc1_units=fc1_unitss[case],fc2_units=fc2_unitss[case])\n",
    " \n",
    "actor_filename = u'models\\Actor_' + str(BUFFER_SIZES[case])+'_'+ str(BATCH_SIZES[case]) +'_'+ str(TAUS[case]) +'_'+ str(LR_ACTORS[case]) +'_'+ str(LR_CRITICS[case]) +'_'+ str(WEIGHT_DECAYS[case]) +'_'+ str(fc1_unitss[case])+'_'+ str(fc2_unitss[case]) + '.pth'\n",
    "critic_filename = u'models\\Critic_' + str(BUFFER_SIZES[case])+'_'+ str(BATCH_SIZES[case]) +'_'+ str(TAUS[case]) +'_'+ str(LR_ACTORS[case]) +'_'+ str(LR_CRITICS[case]) +'_'+ str(WEIGHT_DECAYS[case]) +'_'+ str(fc1_unitss[case])+'_'+ str(fc2_unitss[case]) + '.pth'\n",
    "agent.actor_local.load_state_dict(torch.load(actor_filename))\n",
    "agent.critic_local.load_state_dict(torch.load(critic_filename))\n",
    "\n",
    "env_info = env.reset(train_mode=False)[brain_name]      # reset the environment    \n",
    "states = env_info.vector_observations                  # get the current state (for each agent)\n",
    "#agent.reset()\n",
    "#agent.actor_local.load_state_dict(torch.load('checkpoint_actor.pth'))\n",
    "#agent.critic_local.load_state_dict(torch.load('checkpoint_critic.pth'))\n",
    "scores = np.zeros(num_agents)                          # initialize the score (for each agent)\n",
    "for t in range(100):\n",
    "    actions = agent.act(states)\n",
    "    #next_state, reward, done, _ = env.step(action)\n",
    "    env_info = env.step(actions)[brain_name]           # send all actions to tne environment\n",
    "\n",
    "    next_states = env_info.vector_observations         # get next state (for each agent)\n",
    "    rewards = env_info.rewards                         # get reward (for each agent)\n",
    "    #print(rewards)\n",
    "\n",
    "    dones = env_info.local_done                        # see if episode finished\n",
    "    #print(dones)\n",
    "    agent.step(states, actions, rewards, next_states, dones)\n",
    "    states = next_states\n",
    "    scores += rewards                         # update the score (for each agent)\n",
    "    if np.any(dones): \n",
    "        #print(\"breaking...\")\n",
    "        break \n",
    "    #else:\n",
    "                #print(\"not breaking this time...\")\n",
    "#env.close()"
   ]
  },
  {
   "cell_type": "code",
   "execution_count": 34,
   "metadata": {},
   "outputs": [
    {
     "data": {
      "text/plain": [
       "array([2.03999995, 2.48999994, 2.47999994, 0.64999999, 1.56999996,\n",
       "       3.27999993, 2.23999995, 0.89999998, 2.59999994, 2.17999995,\n",
       "       0.04      , 2.34999995, 2.02999995, 1.58999996, 1.29999997,\n",
       "       3.69999992, 2.38999995, 1.69999996, 2.37999995, 2.06999995])"
      ]
     },
     "execution_count": 34,
     "metadata": {},
     "output_type": "execute_result"
    }
   ],
   "source": [
    "scores"
   ]
  },
  {
   "cell_type": "code",
   "execution_count": 24,
   "metadata": {},
   "outputs": [],
   "source": [
    "pickle_out = open(\"results1.pickle\",\"wb\")\n",
    "pickle.dump(results, pickle_out)\n",
    "pickle_out.close()"
   ]
  },
  {
   "cell_type": "code",
   "execution_count": 5,
   "metadata": {},
   "outputs": [],
   "source": [
    "pickle_in = open(\"results1.pickle\",\"rb\")\n",
    "results = pickle.load(pickle_in)"
   ]
  },
  {
   "cell_type": "raw",
   "metadata": {},
   "source": [
    "results_out"
   ]
  },
  {
   "cell_type": "code",
   "execution_count": null,
   "metadata": {},
   "outputs": [],
   "source": []
  },
  {
   "cell_type": "code",
   "execution_count": null,
   "metadata": {},
   "outputs": [],
   "source": []
  },
  {
   "cell_type": "code",
   "execution_count": null,
   "metadata": {},
   "outputs": [],
   "source": []
  },
  {
   "cell_type": "code",
   "execution_count": null,
   "metadata": {},
   "outputs": [],
   "source": []
  },
  {
   "cell_type": "code",
   "execution_count": null,
   "metadata": {},
   "outputs": [],
   "source": []
  },
  {
   "cell_type": "code",
   "execution_count": null,
   "metadata": {},
   "outputs": [],
   "source": []
  },
  {
   "cell_type": "code",
   "execution_count": null,
   "metadata": {},
   "outputs": [],
   "source": []
  },
  {
   "cell_type": "code",
   "execution_count": null,
   "metadata": {},
   "outputs": [],
   "source": []
  },
  {
   "cell_type": "code",
   "execution_count": null,
   "metadata": {},
   "outputs": [],
   "source": []
  },
  {
   "cell_type": "code",
   "execution_count": null,
   "metadata": {},
   "outputs": [],
   "source": []
  },
  {
   "cell_type": "code",
   "execution_count": null,
   "metadata": {},
   "outputs": [],
   "source": []
  },
  {
   "cell_type": "code",
   "execution_count": null,
   "metadata": {},
   "outputs": [],
   "source": []
  },
  {
   "cell_type": "code",
   "execution_count": null,
   "metadata": {},
   "outputs": [],
   "source": []
  },
  {
   "cell_type": "code",
   "execution_count": null,
   "metadata": {},
   "outputs": [],
   "source": []
  },
  {
   "cell_type": "code",
   "execution_count": null,
   "metadata": {},
   "outputs": [],
   "source": []
  },
  {
   "cell_type": "code",
   "execution_count": null,
   "metadata": {},
   "outputs": [],
   "source": []
  }
 ],
 "metadata": {
  "kernelspec": {
   "display_name": "drlnd",
   "language": "python",
   "name": "drlnd"
  },
  "language_info": {
   "codemirror_mode": {
    "name": "ipython",
    "version": 3
   },
   "file_extension": ".py",
   "mimetype": "text/x-python",
   "name": "python",
   "nbconvert_exporter": "python",
   "pygments_lexer": "ipython3",
   "version": "3.6.7"
  }
 },
 "nbformat": 4,
 "nbformat_minor": 2
}
